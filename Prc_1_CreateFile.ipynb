{
 "cells": [
  {
   "cell_type": "code",
   "execution_count": 8,
   "metadata": {},
   "outputs": [],
   "source": [
    "import pandas as pd \n",
    "import openpyxl as opld\n",
    "\n"
   ]
  },
  {
   "cell_type": "code",
   "execution_count": 17,
   "metadata": {},
   "outputs": [
    {
     "name": "stdout",
     "output_type": "stream",
     "text": [
      "Operación cancelada por el usuario.\n"
     ]
    }
   ],
   "source": [
    "\n",
    "# Carga el archivo de Excel\n",
    "import openpyxl\n",
    "\n",
    "\n",
    "wb = openpyxl.load_workbook('C:/Users/David Velazquez/Documents/Py_Avances/Practicas/ArchivoPrueba_1.xlsx')\n",
    "\n",
    "# Selecciona la hoja de cálculo\n",
    "ws = wb['Sheet1']\n",
    "\n",
    "# Busca el inicio y final del rango en la hoja\n",
    "inicio = None\n",
    "final = None\n",
    "for row in ws.iter_rows():\n",
    "    for cell in row:\n",
    "        if cell.value == 2 :# 'valor_inicio': # Reemplaza 'valor_inicio' por el valor de inicio del rango buscado\n",
    "            inicio = cell.coordinate\n",
    "        elif cell.value == 5 :# 'valor_final': # Reemplaza 'valor_final' por el valor final del rango buscado\n",
    "            final = cell.coordinate\n",
    "\n",
    "# Si se encontró el inicio y el final del rango, solicita al usuario la confirmación y realiza la suma\n",
    "if inicio is not None and final is not None:\n",
    "    rango = inicio + ':' + final\n",
    "    confirmacion = input('Se encontró el rango ' + rango + '. ¿Deseas sumar las celdas en este rango? (s/n): ')\n",
    "    if confirmacion.lower() == 's':\n",
    "        suma = 0\n",
    "        for row in ws[rango]:\n",
    "            for cell in row:\n",
    "                suma += cell.value\n",
    "        print('La suma de las celdas en el rango ' + rango + ' es: ' + str(suma))\n",
    "    else:\n",
    "        print('Operación cancelada por el usuario.')\n",
    "else:\n",
    "    print('No se encontró el rango buscado.')"
   ]
  }
 ],
 "metadata": {
  "kernelspec": {
   "display_name": "base",
   "language": "python",
   "name": "python3"
  },
  "language_info": {
   "codemirror_mode": {
    "name": "ipython",
    "version": 3
   },
   "file_extension": ".py",
   "mimetype": "text/x-python",
   "name": "python",
   "nbconvert_exporter": "python",
   "pygments_lexer": "ipython3",
   "version": "3.9.13"
  },
  "orig_nbformat": 4,
  "vscode": {
   "interpreter": {
    "hash": "372e1bb23aba0a97a00d31fb93e1ffe271f3ea25b6e0a2f776fe82d5123881ef"
   }
  }
 },
 "nbformat": 4,
 "nbformat_minor": 2
}
